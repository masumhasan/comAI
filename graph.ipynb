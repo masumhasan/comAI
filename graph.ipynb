{
 "cells": [
  {
   "cell_type": "code",
   "execution_count": 1,
   "metadata": {},
   "outputs": [
    {
     "ename": "ModuleNotFoundError",
     "evalue": "No module named 'graphviz'",
     "output_type": "error",
     "traceback": [
      "\u001b[0;31m---------------------------------------------------------------------------\u001b[0m",
      "\u001b[0;31mModuleNotFoundError\u001b[0m                       Traceback (most recent call last)",
      "Cell \u001b[0;32mIn[1], line 1\u001b[0m\n\u001b[0;32m----> 1\u001b[0m \u001b[39mimport\u001b[39;00m \u001b[39mgraphviz\u001b[39;00m\n\u001b[1;32m      3\u001b[0m \u001b[39m# Create a graphviz Digraph object\u001b[39;00m\n\u001b[1;32m      4\u001b[0m dot \u001b[39m=\u001b[39m graphviz\u001b[39m.\u001b[39mDigraph()\n",
      "\u001b[0;31mModuleNotFoundError\u001b[0m: No module named 'graphviz'"
     ]
    }
   ],
   "source": [
    "import graphviz\n",
    "\n",
    "# Create a graphviz Digraph object\n",
    "dot = graphviz.Digraph()\n",
    "\n",
    "# Add nodes for tables\n",
    "tables = [\"Buses\", \"BusStops\", \"BusRoute\"]\n",
    "for table in tables:\n",
    "    dot.node(table)\n",
    "\n",
    "# Add edges to represent relationships\n",
    "edges = [\n",
    "    (\"Buses\", \"BusRoute\"),\n",
    "    (\"BusStops\", \"BusRoute\")\n",
    "]\n",
    "for edge in edges:\n",
    "    dot.edge(*edge)\n",
    "\n",
    "# Set random attributes for tables\n",
    "attributes = {\n",
    "    \"Buses\": [\"BusID\", \"BusName\", \"Fare\", \"Schedule\"],\n",
    "    \"BusStops\": [\"StopID\", \"StopName\"],\n",
    "    \"BusRoute\": [\"BusID\", \"StopID\", \"StopOrder\"]\n",
    "}\n",
    "for table, attrs in attributes.items():\n",
    "    for attr in attrs:\n",
    "        dot.node(attr, shape=\"box\")\n",
    "        dot.edge(table, attr)\n",
    "\n",
    "# Generate and display the diagram\n",
    "dot.format = 'png'\n",
    "dot.render('database_schema_diagram', view=True)\n"
   ]
  }
 ],
 "metadata": {
  "kernelspec": {
   "display_name": "Python 3",
   "language": "python",
   "name": "python3"
  },
  "language_info": {
   "name": "python",
   "version": "3.11.3"
  },
  "orig_nbformat": 4
 },
 "nbformat": 4,
 "nbformat_minor": 2
}
